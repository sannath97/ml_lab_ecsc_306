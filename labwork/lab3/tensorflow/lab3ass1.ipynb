{
 "cells": [
  {
   "cell_type": "code",
   "execution_count": 1,
   "metadata": {
    "collapsed": true
   },
   "outputs": [],
   "source": [
    "import matplotlib.pyplot as plt\n",
    "import numpy as np\n",
    "import tensorflow as tf\n",
    "from sklearn import datasets\n",
    "from tensorflow.python.framework import ops\n",
    "ops.reset_default_graph()"
   ]
  },
  {
   "cell_type": "code",
   "execution_count": 2,
   "metadata": {
    "collapsed": true
   },
   "outputs": [],
   "source": [
    "sess = tf.Session()"
   ]
  },
  {
   "cell_type": "code",
   "execution_count": 3,
   "metadata": {
    "collapsed": true
   },
   "outputs": [],
   "source": [
    "# Load the data\n",
    "# iris.data = [(Sepal Length, Sepal Width, Petal Length, Petal Width)]\n",
    "iris = datasets.load_iris()\n",
    "x_vals = np.array([x[3] for x in iris.data])\n",
    "y_vals = np.array([y[0] for y in iris.data])"
   ]
  },
  {
   "cell_type": "code",
   "execution_count": 4,
   "metadata": {
    "collapsed": true
   },
   "outputs": [],
   "source": [
    "# Declare batch size\n",
    "batch_size = 25"
   ]
  },
  {
   "cell_type": "code",
   "execution_count": 5,
   "metadata": {
    "collapsed": true
   },
   "outputs": [],
   "source": [
    "# Initialize placeholders\n",
    "x_data = tf.placeholder(shape=[None, 1], dtype=tf.float32)\n",
    "y_target = tf.placeholder(shape=[None, 1], dtype=tf.float32)\n",
    "\n",
    "# Create variables for linear regression\n",
    "A = tf.Variable(tf.random_normal(shape=[1,1]))\n",
    "b = tf.Variable(tf.random_normal(shape=[1,1]))"
   ]
  },
  {
   "cell_type": "code",
   "execution_count": 6,
   "metadata": {
    "collapsed": true
   },
   "outputs": [],
   "source": [
    "# Declare model operations\n",
    "model_output = tf.add(tf.matmul(x_data, A), b)\n",
    "\n",
    "# Declare loss function (L2 loss)\n",
    "loss = tf.reduce_mean(tf.square(y_target - model_output))"
   ]
  },
  {
   "cell_type": "code",
   "execution_count": 10,
   "metadata": {},
   "outputs": [],
   "source": [
    "# Declare optimizer\n",
    "my_opt = tf.train.GradientDescentOptimizer(0.05)\n",
    "train_step = my_opt.minimize(loss)\n",
    "\n",
    "# Initialize variables\n",
    "init = tf.global_variables_initializer()\n",
    "sess.run(init)"
   ]
  },
  {
   "cell_type": "code",
   "execution_count": 11,
   "metadata": {},
   "outputs": [
    {
     "name": "stdout",
     "output_type": "stream",
     "text": [
      "Step #25 A = [[ 1.99011993]] b = [[ 3.0767014]]\n",
      "Loss = 0.935972\n",
      "Step #50 A = [[ 1.5392077]] b = [[ 3.74970508]]\n",
      "Loss = 0.475685\n",
      "Step #75 A = [[ 1.27885616]] b = [[ 4.19741964]]\n",
      "Loss = 0.309376\n",
      "Step #100 A = [[ 1.18482232]] b = [[ 4.44226599]]\n",
      "Loss = 0.348462\n"
     ]
    }
   ],
   "source": [
    "# Training loop\n",
    "loss_vec = []\n",
    "for i in range(100):\n",
    "    rand_index = np.random.choice(len(x_vals), size=batch_size)\n",
    "    rand_x = np.transpose([x_vals[rand_index]])\n",
    "    rand_y = np.transpose([y_vals[rand_index]])\n",
    "    sess.run(train_step, feed_dict={x_data: rand_x, y_target: rand_y})\n",
    "    temp_loss = sess.run(loss, feed_dict={x_data: rand_x, y_target: rand_y})\n",
    "    loss_vec.append(temp_loss)\n",
    "    if (i+1)%25==0:\n",
    "        print('Step #' + str(i+1) + ' A = ' + str(sess.run(A)) + ' b = ' + str(sess.run(b)))\n",
    "        print('Loss = ' + str(temp_loss))"
   ]
  },
  {
   "cell_type": "code",
   "execution_count": 12,
   "metadata": {
    "collapsed": true
   },
   "outputs": [],
   "source": [
    "# Get the optimal coefficients\n",
    "[slope] = sess.run(A)\n",
    "[y_intercept] = sess.run(b)\n",
    "\n",
    "# Get best fit line\n",
    "best_fit = []\n",
    "for i in x_vals:\n",
    "  best_fit.append(slope*i+y_intercept)"
   ]
  },
  {
   "cell_type": "code",
   "execution_count": 13,
   "metadata": {},
   "outputs": [
    {
     "data": {
      "image/png": "iVBORw0KGgoAAAANSUhEUgAAAYUAAAEWCAYAAACJ0YulAAAABHNCSVQICAgIfAhkiAAAAAlwSFlz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\nyR